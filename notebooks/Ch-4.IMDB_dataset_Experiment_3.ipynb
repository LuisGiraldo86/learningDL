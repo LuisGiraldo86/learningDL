{
  "cells": [
    {
      "cell_type": "markdown",
      "metadata": {
        "id": "R17_b0HtoyU5"
      },
      "source": [
        "# IMDB dataset. Experiment 3\n",
        "\n",
        "This third experiment consist in evaluate the performance of a neural network with one layer on the IMDB classification reviews problem. We have selected `MlFlow` to track the performance variation an assess the models.\n",
        "\n",
        "In this case, the activation function is `relu`."
      ]
    },
    {
      "cell_type": "markdown",
      "metadata": {
        "id": "CyPXjy9upHTK"
      },
      "source": [
        "Then, we import the necessary libraries."
      ]
    },
    {
      "cell_type": "code",
      "execution_count": 1,
      "metadata": {
        "id": "134D_HlSqDZH"
      },
      "outputs": [
        {
          "name": "stderr",
          "output_type": "stream",
          "text": [
            "2024-04-29 12:46:51.908507: I external/local_tsl/tsl/cuda/cudart_stub.cc:32] Could not find cuda drivers on your machine, GPU will not be used.\n",
            "2024-04-29 12:46:51.983279: I external/local_tsl/tsl/cuda/cudart_stub.cc:32] Could not find cuda drivers on your machine, GPU will not be used.\n",
            "2024-04-29 12:46:52.217446: I tensorflow/core/platform/cpu_feature_guard.cc:210] This TensorFlow binary is optimized to use available CPU instructions in performance-critical operations.\n",
            "To enable the following instructions: AVX2 FMA, in other operations, rebuild TensorFlow with the appropriate compiler flags.\n",
            "2024-04-29 12:46:53.572139: W tensorflow/compiler/tf2tensorrt/utils/py_utils.cc:38] TF-TRT Warning: Could not find TensorRT\n"
          ]
        }
      ],
      "source": [
        "# imports\n",
        "import os\n",
        "\n",
        "import tensorflow as tf\n",
        "import numpy as np\n",
        "import mlflow\n",
        "\n",
        "from mlflow.tracking import MlflowClient"
      ]
    },
    {
      "cell_type": "markdown",
      "metadata": {
        "id": "odc36gKHpM5i"
      },
      "source": [
        "Here we add the path to the local module so we can import our own funtion to the notebook."
      ]
    },
    {
      "cell_type": "code",
      "execution_count": 2,
      "metadata": {
        "colab": {
          "base_uri": "https://localhost:8080/"
        },
        "id": "Yy8CPMEbqGCR",
        "outputId": "b38fcb2b-e4c8-4974-f02f-9a99af2eadf2"
      },
      "outputs": [],
      "source": [
        "# import local modules\n",
        "import sys\n",
        "sys.path.append('/mnt/0A2AAC152AABFBB7/sideProjects/deepLearning')\n",
        "from deeplearning.deep_utils import imdb_model_setup_one_layer"
      ]
    },
    {
      "cell_type": "markdown",
      "metadata": {
        "id": "NvS9-SMMpXM8"
      },
      "source": [
        "From this point we do not add more comments since we follow the path determined in Chollet's book."
      ]
    },
    {
      "cell_type": "code",
      "execution_count": 3,
      "metadata": {
        "colab": {
          "base_uri": "https://localhost:8080/"
        },
        "id": "0f7PyA3AqRGg",
        "outputId": "59043c96-141e-4efe-c7b7-94011f1ca444"
      },
      "outputs": [],
      "source": [
        "# Loading the IMDB dataset\n",
        "\n",
        "(train_data, train_labels), (test_data, test_labels) = tf.keras.datasets.imdb.load_data(num_words=10000)"
      ]
    },
    {
      "cell_type": "code",
      "execution_count": 4,
      "metadata": {
        "id": "nU7HcW2VqSGo"
      },
      "outputs": [],
      "source": [
        "# Encoding the integer sequences via multi-hot encoding\n",
        "\n",
        "def vectorize_sequences(sequences, dimension=10000):\n",
        "\n",
        "    results = np.zeros((len(sequences), dimension))\n",
        "    for i, sequence in enumerate(sequences):\n",
        "        for j in sequence:\n",
        "            results[i, j] = 1.\n",
        "    return results\n",
        "\n",
        "x_train = vectorize_sequences(train_data)\n",
        "x_test = vectorize_sequences(test_data)\n",
        "\n",
        "y_train = np.asarray(train_labels).astype(\"float32\")\n",
        "y_test = np.asarray(test_labels).astype(\"float32\")"
      ]
    },
    {
      "cell_type": "code",
      "execution_count": 5,
      "metadata": {
        "id": "jaQVMbuMqYeQ"
      },
      "outputs": [],
      "source": [
        "# Setting aside a validation set\n",
        "\n",
        "x_val = x_train[:10000]\n",
        "partial_x_train = x_train[10000:]\n",
        "\n",
        "y_val = y_train[:10000]\n",
        "partial_y_train = y_train[10000:]"
      ]
    },
    {
      "cell_type": "code",
      "execution_count": 6,
      "metadata": {
        "colab": {
          "base_uri": "https://localhost:8080/"
        },
        "id": "VZKpsHm7qZnQ",
        "outputId": "77b08157-92ca-418d-81b9-b9196233fdcc"
      },
      "outputs": [],
      "source": [
        "# Initialize client and experiment\n",
        "\n",
        "EXPERIMENT_NAME = \"deepLearning_IMDB_dataset\"\n",
        "client = MlflowClient()\n",
        "mlflow.set_experiment(EXPERIMENT_NAME)\n",
        "exp = client.get_experiment_by_name(EXPERIMENT_NAME)"
      ]
    },
    {
      "cell_type": "markdown",
      "metadata": {
        "id": "cxBQIloMpcZi"
      },
      "source": [
        "We create a list with the number of units in the layer. It would be interesting to try with more units but due to Collab limitation we can only experiment with three possible sizes."
      ]
    },
    {
      "cell_type": "code",
      "execution_count": 7,
      "metadata": {
        "id": "fv1LjZMvqeqY"
      },
      "outputs": [],
      "source": [
        "units_2_hidden = [8, 16, 32]"
      ]
    },
    {
      "cell_type": "markdown",
      "metadata": {
        "id": "i43RXbsfptIE"
      },
      "source": [
        "Here we train the three NN and store their performances with the help of `MlFlow`."
      ]
    },
    {
      "cell_type": "code",
      "execution_count": 8,
      "metadata": {
        "colab": {
          "base_uri": "https://localhost:8080/"
        },
        "id": "CyFPtBeJqfjx",
        "outputId": "0a0ec7c1-8051-4480-c6ab-f17ddab82429"
      },
      "outputs": [
        {
          "name": "stdout",
          "output_type": "stream",
          "text": [
            "Epoch 1/4\n"
          ]
        },
        {
          "name": "stderr",
          "output_type": "stream",
          "text": [
            "2024-04-29 12:47:01.940643: W external/local_tsl/tsl/framework/cpu_allocator_impl.cc:83] Allocation of 600000000 exceeds 10% of free system memory.\n"
          ]
        },
        {
          "name": "stdout",
          "output_type": "stream",
          "text": [
            "\u001b[1m30/30\u001b[0m \u001b[32m━━━━━━━━━━━━━━━━━━━━\u001b[0m\u001b[37m\u001b[0m \u001b[1m1s\u001b[0m 29ms/step - accuracy: 0.6923 - loss: 0.6115 - val_accuracy: 0.8591 - val_loss: 0.4284\n",
            "Epoch 2/4\n"
          ]
        },
        {
          "name": "stderr",
          "output_type": "stream",
          "text": [
            "2024-04-29 12:47:03.485950: W external/local_tsl/tsl/framework/cpu_allocator_impl.cc:83] Allocation of 400000000 exceeds 10% of free system memory.\n"
          ]
        },
        {
          "name": "stdout",
          "output_type": "stream",
          "text": [
            "\u001b[1m30/30\u001b[0m \u001b[32m━━━━━━━━━━━━━━━━━━━━\u001b[0m\u001b[37m\u001b[0m \u001b[1m0s\u001b[0m 12ms/step - accuracy: 0.8893 - loss: 0.3784 - val_accuracy: 0.8751 - val_loss: 0.3558\n",
            "Epoch 3/4\n",
            "\u001b[1m30/30\u001b[0m \u001b[32m━━━━━━━━━━━━━━━━━━━━\u001b[0m\u001b[37m\u001b[0m \u001b[1m0s\u001b[0m 11ms/step - accuracy: 0.9127 - loss: 0.2923 - val_accuracy: 0.8808 - val_loss: 0.3179\n",
            "Epoch 4/4\n",
            "\u001b[1m30/30\u001b[0m \u001b[32m━━━━━━━━━━━━━━━━━━━━\u001b[0m\u001b[37m\u001b[0m \u001b[1m0s\u001b[0m 10ms/step - accuracy: 0.9230 - loss: 0.2478 - val_accuracy: 0.8888 - val_loss: 0.2919\n",
            "\u001b[1m115/782\u001b[0m \u001b[32m━━\u001b[0m\u001b[37m━━━━━━━━━━━━━━━━━━\u001b[0m \u001b[1m0s\u001b[0m 890us/step - accuracy: 0.8941 - loss: 0.2947"
          ]
        },
        {
          "name": "stderr",
          "output_type": "stream",
          "text": [
            "2024-04-29 12:47:07.574007: W external/local_tsl/tsl/framework/cpu_allocator_impl.cc:83] Allocation of 1000000000 exceeds 10% of free system memory.\n"
          ]
        },
        {
          "name": "stdout",
          "output_type": "stream",
          "text": [
            "\u001b[1m782/782\u001b[0m \u001b[32m━━━━━━━━━━━━━━━━━━━━\u001b[0m\u001b[37m\u001b[0m \u001b[1m1s\u001b[0m 825us/step - accuracy: 0.8822 - loss: 0.3059\n",
            "Epoch 1/4\n"
          ]
        },
        {
          "name": "stderr",
          "output_type": "stream",
          "text": [
            "2024-04-29 12:47:09.468679: W external/local_tsl/tsl/framework/cpu_allocator_impl.cc:83] Allocation of 600000000 exceeds 10% of free system memory.\n"
          ]
        },
        {
          "name": "stdout",
          "output_type": "stream",
          "text": [
            "\u001b[1m28/30\u001b[0m \u001b[32m━━━━━━━━━━━━━━━━━━\u001b[0m\u001b[37m━━\u001b[0m \u001b[1m0s\u001b[0m 8ms/step - accuracy: 0.7040 - loss: 0.5902"
          ]
        },
        {
          "name": "stderr",
          "output_type": "stream",
          "text": [
            "2024-04-29 12:47:10.951105: W external/local_tsl/tsl/framework/cpu_allocator_impl.cc:83] Allocation of 400000000 exceeds 10% of free system memory.\n"
          ]
        },
        {
          "name": "stdout",
          "output_type": "stream",
          "text": [
            "\u001b[1m30/30\u001b[0m \u001b[32m━━━━━━━━━━━━━━━━━━━━\u001b[0m\u001b[37m\u001b[0m \u001b[1m2s\u001b[0m 33ms/step - accuracy: 0.7121 - loss: 0.5823 - val_accuracy: 0.8680 - val_loss: 0.3939\n",
            "Epoch 2/4\n",
            "\u001b[1m30/30\u001b[0m \u001b[32m━━━━━━━━━━━━━━━━━━━━\u001b[0m\u001b[37m\u001b[0m \u001b[1m0s\u001b[0m 14ms/step - accuracy: 0.8939 - loss: 0.3432 - val_accuracy: 0.8735 - val_loss: 0.3374\n",
            "Epoch 3/4\n",
            "\u001b[1m30/30\u001b[0m \u001b[32m━━━━━━━━━━━━━━━━━━━━\u001b[0m\u001b[37m\u001b[0m \u001b[1m1s\u001b[0m 13ms/step - accuracy: 0.9152 - loss: 0.2691 - val_accuracy: 0.8907 - val_loss: 0.2949\n",
            "Epoch 4/4\n",
            "\u001b[1m30/30\u001b[0m \u001b[32m━━━━━━━━━━━━━━━━━━━━\u001b[0m\u001b[37m\u001b[0m \u001b[1m0s\u001b[0m 14ms/step - accuracy: 0.9288 - loss: 0.2254 - val_accuracy: 0.8891 - val_loss: 0.2846\n",
            "\u001b[1m782/782\u001b[0m \u001b[32m━━━━━━━━━━━━━━━━━━━━\u001b[0m\u001b[37m\u001b[0m \u001b[1m1s\u001b[0m 1ms/step - accuracy: 0.8796 - loss: 0.2975\n",
            "Epoch 1/4\n",
            "\u001b[1m30/30\u001b[0m \u001b[32m━━━━━━━━━━━━━━━━━━━━\u001b[0m\u001b[37m\u001b[0m \u001b[1m2s\u001b[0m 32ms/step - accuracy: 0.7130 - loss: 0.5720 - val_accuracy: 0.8651 - val_loss: 0.3815\n",
            "Epoch 2/4\n",
            "\u001b[1m30/30\u001b[0m \u001b[32m━━━━━━━━━━━━━━━━━━━━\u001b[0m\u001b[37m\u001b[0m \u001b[1m0s\u001b[0m 14ms/step - accuracy: 0.8923 - loss: 0.3290 - val_accuracy: 0.8843 - val_loss: 0.3133\n",
            "Epoch 3/4\n",
            "\u001b[1m30/30\u001b[0m \u001b[32m━━━━━━━━━━━━━━━━━━━━\u001b[0m\u001b[37m\u001b[0m \u001b[1m0s\u001b[0m 14ms/step - accuracy: 0.9186 - loss: 0.2530 - val_accuracy: 0.8892 - val_loss: 0.2868\n",
            "Epoch 4/4\n",
            "\u001b[1m30/30\u001b[0m \u001b[32m━━━━━━━━━━━━━━━━━━━━\u001b[0m\u001b[37m\u001b[0m \u001b[1m0s\u001b[0m 13ms/step - accuracy: 0.9298 - loss: 0.2142 - val_accuracy: 0.8902 - val_loss: 0.2778\n",
            "\u001b[1m782/782\u001b[0m \u001b[32m━━━━━━━━━━━━━━━━━━━━\u001b[0m\u001b[37m\u001b[0m \u001b[1m1s\u001b[0m 985us/step - accuracy: 0.8829 - loss: 0.2907\n"
          ]
        }
      ],
      "source": [
        "count = 0\n",
        "for units in units_2_hidden:\n",
        "\n",
        "    model, history = imdb_model_setup_one_layer(\n",
        "        units_layer=units,\n",
        "        activ_func=\"relu\",\n",
        "        X_train=partial_x_train,\n",
        "        y_train=partial_y_train,\n",
        "        X_val=x_val,\n",
        "        y_val=y_val\n",
        "    )\n",
        "\n",
        "    hist_dict = history.history\n",
        "    test_loss, test_accuracy = model.evaluate(x_test, y_test)\n",
        "\n",
        "\n",
        "    with mlflow.start_run():\n",
        "        mlflow.set_tag(\"model\", \"Base_tanh_{}\".format(count))\n",
        "        mlflow.log_param(\"units_1st_layer\", units)\n",
        "        mlflow.log_param(\"hidden_activation\", 'relu')\n",
        "        mlflow.log_param(\"epochs\", 4)\n",
        "        mlflow.log_param(\"batch_size\", 512)\n",
        "        mlflow.log_metric(\"accuracy\", test_accuracy)\n",
        "        mlflow.log_metric(\"loss\", test_loss)\n",
        "    count+=1\n",
        "\n",
        "    del hist_dict\n",
        "    del history\n",
        "    del model"
      ]
    },
    {
      "cell_type": "code",
      "execution_count": 10,
      "metadata": {
        "colab": {
          "base_uri": "https://localhost:8080/",
          "height": 216
        },
        "id": "EO1GiUqztaFL",
        "outputId": "f06cdafe-c05e-4221-e9a7-fa4b58a67787"
      },
      "outputs": [
        {
          "data": {
            "text/html": [
              "<div>\n",
              "<style scoped>\n",
              "    .dataframe tbody tr th:only-of-type {\n",
              "        vertical-align: middle;\n",
              "    }\n",
              "\n",
              "    .dataframe tbody tr th {\n",
              "        vertical-align: top;\n",
              "    }\n",
              "\n",
              "    .dataframe thead th {\n",
              "        text-align: right;\n",
              "    }\n",
              "</style>\n",
              "<table border=\"1\" class=\"dataframe\">\n",
              "  <thead>\n",
              "    <tr style=\"text-align: right;\">\n",
              "      <th></th>\n",
              "      <th>experiment_id</th>\n",
              "      <th>status</th>\n",
              "      <th>metrics.loss</th>\n",
              "      <th>metrics.accuracy</th>\n",
              "      <th>params.units_1st_layer</th>\n",
              "      <th>params.hidden_activation</th>\n",
              "    </tr>\n",
              "  </thead>\n",
              "  <tbody>\n",
              "    <tr>\n",
              "      <th>0</th>\n",
              "      <td>926124755463801135</td>\n",
              "      <td>FINISHED</td>\n",
              "      <td>0.288918</td>\n",
              "      <td>0.88404</td>\n",
              "      <td>32</td>\n",
              "      <td>relu</td>\n",
              "    </tr>\n",
              "    <tr>\n",
              "      <th>1</th>\n",
              "      <td>926124755463801135</td>\n",
              "      <td>FINISHED</td>\n",
              "      <td>0.297910</td>\n",
              "      <td>0.88084</td>\n",
              "      <td>16</td>\n",
              "      <td>relu</td>\n",
              "    </tr>\n",
              "    <tr>\n",
              "      <th>2</th>\n",
              "      <td>926124755463801135</td>\n",
              "      <td>FINISHED</td>\n",
              "      <td>0.304674</td>\n",
              "      <td>0.88280</td>\n",
              "      <td>8</td>\n",
              "      <td>relu</td>\n",
              "    </tr>\n",
              "    <tr>\n",
              "      <th>3</th>\n",
              "      <td>926124755463801135</td>\n",
              "      <td>FINISHED</td>\n",
              "      <td>0.338135</td>\n",
              "      <td>0.87084</td>\n",
              "      <td>64</td>\n",
              "      <td>tanh</td>\n",
              "    </tr>\n",
              "    <tr>\n",
              "      <th>4</th>\n",
              "      <td>926124755463801135</td>\n",
              "      <td>FINISHED</td>\n",
              "      <td>0.309813</td>\n",
              "      <td>0.87840</td>\n",
              "      <td>32</td>\n",
              "      <td>tanh</td>\n",
              "    </tr>\n",
              "    <tr>\n",
              "      <th>5</th>\n",
              "      <td>926124755463801135</td>\n",
              "      <td>FINISHED</td>\n",
              "      <td>0.287834</td>\n",
              "      <td>0.88152</td>\n",
              "      <td>16</td>\n",
              "      <td>tanh</td>\n",
              "    </tr>\n",
              "    <tr>\n",
              "      <th>6</th>\n",
              "      <td>926124755463801135</td>\n",
              "      <td>FINISHED</td>\n",
              "      <td>0.385586</td>\n",
              "      <td>0.84884</td>\n",
              "      <td>64</td>\n",
              "      <td>relu</td>\n",
              "    </tr>\n",
              "    <tr>\n",
              "      <th>7</th>\n",
              "      <td>926124755463801135</td>\n",
              "      <td>FINISHED</td>\n",
              "      <td>0.313741</td>\n",
              "      <td>0.87392</td>\n",
              "      <td>32</td>\n",
              "      <td>relu</td>\n",
              "    </tr>\n",
              "    <tr>\n",
              "      <th>8</th>\n",
              "      <td>926124755463801135</td>\n",
              "      <td>FINISHED</td>\n",
              "      <td>0.294502</td>\n",
              "      <td>0.88060</td>\n",
              "      <td>16</td>\n",
              "      <td>relu</td>\n",
              "    </tr>\n",
              "  </tbody>\n",
              "</table>\n",
              "</div>"
            ],
            "text/plain": [
              "        experiment_id    status  metrics.loss  metrics.accuracy  \\\n",
              "0  926124755463801135  FINISHED      0.288918           0.88404   \n",
              "1  926124755463801135  FINISHED      0.297910           0.88084   \n",
              "2  926124755463801135  FINISHED      0.304674           0.88280   \n",
              "3  926124755463801135  FINISHED      0.338135           0.87084   \n",
              "4  926124755463801135  FINISHED      0.309813           0.87840   \n",
              "5  926124755463801135  FINISHED      0.287834           0.88152   \n",
              "6  926124755463801135  FINISHED      0.385586           0.84884   \n",
              "7  926124755463801135  FINISHED      0.313741           0.87392   \n",
              "8  926124755463801135  FINISHED      0.294502           0.88060   \n",
              "\n",
              "  params.units_1st_layer params.hidden_activation  \n",
              "0                     32                     relu  \n",
              "1                     16                     relu  \n",
              "2                      8                     relu  \n",
              "3                     64                     tanh  \n",
              "4                     32                     tanh  \n",
              "5                     16                     tanh  \n",
              "6                     64                     relu  \n",
              "7                     32                     relu  \n",
              "8                     16                     relu  "
            ]
          },
          "execution_count": 10,
          "metadata": {},
          "output_type": "execute_result"
        }
      ],
      "source": [
        "runs = mlflow.search_runs()\n",
        "PATH_TO_RUNS = \"/mnt/0A2AAC152AABFBB7/sideProjects/deepLearning/mlflow_runs\"\n",
        "runs.to_csv(\n",
        "    os.path.join(PATH_TO_RUNS, \"imdb_runs_2.csv\")\n",
        ")\n",
        "runs[['experiment_id', 'status', 'metrics.loss', 'metrics.accuracy', 'params.units_1st_layer', \"params.hidden_activation\"]]"
      ]
    },
    {
      "cell_type": "code",
      "execution_count": 11,
      "metadata": {},
      "outputs": [
        {
          "data": {
            "text/html": [
              "<div>\n",
              "<style scoped>\n",
              "    .dataframe tbody tr th:only-of-type {\n",
              "        vertical-align: middle;\n",
              "    }\n",
              "\n",
              "    .dataframe tbody tr th {\n",
              "        vertical-align: top;\n",
              "    }\n",
              "\n",
              "    .dataframe thead th {\n",
              "        text-align: right;\n",
              "    }\n",
              "</style>\n",
              "<table border=\"1\" class=\"dataframe\">\n",
              "  <thead>\n",
              "    <tr style=\"text-align: right;\">\n",
              "      <th></th>\n",
              "      <th>run_id</th>\n",
              "      <th>experiment_id</th>\n",
              "      <th>status</th>\n",
              "      <th>artifact_uri</th>\n",
              "      <th>start_time</th>\n",
              "      <th>end_time</th>\n",
              "      <th>metrics.accuracy</th>\n",
              "      <th>metrics.loss</th>\n",
              "      <th>params.batch_size</th>\n",
              "      <th>params.epochs</th>\n",
              "      <th>params.units_1st_layer</th>\n",
              "      <th>params.hidden_activation</th>\n",
              "      <th>params.units_2nd_layer</th>\n",
              "      <th>tags.mlflow.source.name</th>\n",
              "      <th>tags.mlflow.runName</th>\n",
              "      <th>tags.mlflow.user</th>\n",
              "      <th>tags.model</th>\n",
              "      <th>tags.mlflow.source.type</th>\n",
              "    </tr>\n",
              "  </thead>\n",
              "  <tbody>\n",
              "    <tr>\n",
              "      <th>0</th>\n",
              "      <td>b3288fe1ad6e4c269fdda3ec7897bdae</td>\n",
              "      <td>926124755463801135</td>\n",
              "      <td>FINISHED</td>\n",
              "      <td>file:///mnt/0A2AAC152AABFBB7/sideProjects/deep...</td>\n",
              "      <td>2024-04-29 10:47:21.145000+00:00</td>\n",
              "      <td>2024-04-29 10:47:21.169000+00:00</td>\n",
              "      <td>0.88404</td>\n",
              "      <td>0.288918</td>\n",
              "      <td>512</td>\n",
              "      <td>4</td>\n",
              "      <td>32</td>\n",
              "      <td>relu</td>\n",
              "      <td>None</td>\n",
              "      <td>/mnt/0A2AAC152AABFBB7/sideProjects/deepLearnin...</td>\n",
              "      <td>inquisitive-loon-101</td>\n",
              "      <td>luisggon</td>\n",
              "      <td>Base_tanh_2</td>\n",
              "      <td>LOCAL</td>\n",
              "    </tr>\n",
              "    <tr>\n",
              "      <th>1</th>\n",
              "      <td>913cf68f86e443adae0b87269c2d7897</td>\n",
              "      <td>926124755463801135</td>\n",
              "      <td>FINISHED</td>\n",
              "      <td>file:///mnt/0A2AAC152AABFBB7/sideProjects/deep...</td>\n",
              "      <td>2024-04-29 10:47:15.278000+00:00</td>\n",
              "      <td>2024-04-29 10:47:15.303000+00:00</td>\n",
              "      <td>0.88084</td>\n",
              "      <td>0.297910</td>\n",
              "      <td>512</td>\n",
              "      <td>4</td>\n",
              "      <td>16</td>\n",
              "      <td>relu</td>\n",
              "      <td>None</td>\n",
              "      <td>/mnt/0A2AAC152AABFBB7/sideProjects/deepLearnin...</td>\n",
              "      <td>spiffy-shrimp-14</td>\n",
              "      <td>luisggon</td>\n",
              "      <td>Base_tanh_1</td>\n",
              "      <td>LOCAL</td>\n",
              "    </tr>\n",
              "    <tr>\n",
              "      <th>2</th>\n",
              "      <td>d1c1615ba1a44a92a80dd6e88b0b1af4</td>\n",
              "      <td>926124755463801135</td>\n",
              "      <td>FINISHED</td>\n",
              "      <td>file:///mnt/0A2AAC152AABFBB7/sideProjects/deep...</td>\n",
              "      <td>2024-04-29 10:47:09.139000+00:00</td>\n",
              "      <td>2024-04-29 10:47:09.164000+00:00</td>\n",
              "      <td>0.88280</td>\n",
              "      <td>0.304674</td>\n",
              "      <td>512</td>\n",
              "      <td>4</td>\n",
              "      <td>8</td>\n",
              "      <td>relu</td>\n",
              "      <td>None</td>\n",
              "      <td>/mnt/0A2AAC152AABFBB7/sideProjects/deepLearnin...</td>\n",
              "      <td>unruly-gull-578</td>\n",
              "      <td>luisggon</td>\n",
              "      <td>Base_tanh_0</td>\n",
              "      <td>LOCAL</td>\n",
              "    </tr>\n",
              "    <tr>\n",
              "      <th>3</th>\n",
              "      <td>2143f77529164b8ca07fca057f2f5a08</td>\n",
              "      <td>926124755463801135</td>\n",
              "      <td>FINISHED</td>\n",
              "      <td>file:///mnt/0A2AAC152AABFBB7/sideProjects/deep...</td>\n",
              "      <td>2024-04-29 10:29:48.952000+00:00</td>\n",
              "      <td>2024-04-29 10:29:49.003000+00:00</td>\n",
              "      <td>0.87084</td>\n",
              "      <td>0.338135</td>\n",
              "      <td>512</td>\n",
              "      <td>4</td>\n",
              "      <td>64</td>\n",
              "      <td>tanh</td>\n",
              "      <td>64</td>\n",
              "      <td>/mnt/0A2AAC152AABFBB7/sideProjects/deepLearnin...</td>\n",
              "      <td>likeable-deer-618</td>\n",
              "      <td>luisggon</td>\n",
              "      <td>Base_tanh_2</td>\n",
              "      <td>LOCAL</td>\n",
              "    </tr>\n",
              "    <tr>\n",
              "      <th>4</th>\n",
              "      <td>fd6c45e187074f2680867d44a7fd7738</td>\n",
              "      <td>926124755463801135</td>\n",
              "      <td>FINISHED</td>\n",
              "      <td>file:///mnt/0A2AAC152AABFBB7/sideProjects/deep...</td>\n",
              "      <td>2024-04-29 10:29:40.953000+00:00</td>\n",
              "      <td>2024-04-29 10:29:40.979000+00:00</td>\n",
              "      <td>0.87840</td>\n",
              "      <td>0.309813</td>\n",
              "      <td>512</td>\n",
              "      <td>4</td>\n",
              "      <td>32</td>\n",
              "      <td>tanh</td>\n",
              "      <td>32</td>\n",
              "      <td>/mnt/0A2AAC152AABFBB7/sideProjects/deepLearnin...</td>\n",
              "      <td>sassy-colt-222</td>\n",
              "      <td>luisggon</td>\n",
              "      <td>Base_tanh_1</td>\n",
              "      <td>LOCAL</td>\n",
              "    </tr>\n",
              "    <tr>\n",
              "      <th>5</th>\n",
              "      <td>86caf32d83274909b20505b6d3e74afe</td>\n",
              "      <td>926124755463801135</td>\n",
              "      <td>FINISHED</td>\n",
              "      <td>file:///mnt/0A2AAC152AABFBB7/sideProjects/deep...</td>\n",
              "      <td>2024-04-29 10:29:34.243000+00:00</td>\n",
              "      <td>2024-04-29 10:29:34.275000+00:00</td>\n",
              "      <td>0.88152</td>\n",
              "      <td>0.287834</td>\n",
              "      <td>512</td>\n",
              "      <td>4</td>\n",
              "      <td>16</td>\n",
              "      <td>tanh</td>\n",
              "      <td>16</td>\n",
              "      <td>/mnt/0A2AAC152AABFBB7/sideProjects/deepLearnin...</td>\n",
              "      <td>shivering-mouse-746</td>\n",
              "      <td>luisggon</td>\n",
              "      <td>Base_tanh_0</td>\n",
              "      <td>LOCAL</td>\n",
              "    </tr>\n",
              "    <tr>\n",
              "      <th>6</th>\n",
              "      <td>e1eee968bf3d4c169386b71c68da99c2</td>\n",
              "      <td>926124755463801135</td>\n",
              "      <td>FINISHED</td>\n",
              "      <td>file:///mnt/0A2AAC152AABFBB7/sideProjects/deep...</td>\n",
              "      <td>2024-04-29 09:47:10.132000+00:00</td>\n",
              "      <td>2024-04-29 09:47:10.159000+00:00</td>\n",
              "      <td>0.84884</td>\n",
              "      <td>0.385586</td>\n",
              "      <td>512</td>\n",
              "      <td>4</td>\n",
              "      <td>64</td>\n",
              "      <td>relu</td>\n",
              "      <td>64</td>\n",
              "      <td>/mnt/0A2AAC152AABFBB7/sideProjects/deepLearnin...</td>\n",
              "      <td>upset-snake-27</td>\n",
              "      <td>luisggon</td>\n",
              "      <td>Base_relu_2</td>\n",
              "      <td>LOCAL</td>\n",
              "    </tr>\n",
              "    <tr>\n",
              "      <th>7</th>\n",
              "      <td>acccca3ed4d24086bf23482cb15cc9d8</td>\n",
              "      <td>926124755463801135</td>\n",
              "      <td>FINISHED</td>\n",
              "      <td>file:///mnt/0A2AAC152AABFBB7/sideProjects/deep...</td>\n",
              "      <td>2024-04-29 09:47:02.683000+00:00</td>\n",
              "      <td>2024-04-29 09:47:02.711000+00:00</td>\n",
              "      <td>0.87392</td>\n",
              "      <td>0.313741</td>\n",
              "      <td>512</td>\n",
              "      <td>4</td>\n",
              "      <td>32</td>\n",
              "      <td>relu</td>\n",
              "      <td>32</td>\n",
              "      <td>/mnt/0A2AAC152AABFBB7/sideProjects/deepLearnin...</td>\n",
              "      <td>receptive-midge-765</td>\n",
              "      <td>luisggon</td>\n",
              "      <td>Base_relu_1</td>\n",
              "      <td>LOCAL</td>\n",
              "    </tr>\n",
              "    <tr>\n",
              "      <th>8</th>\n",
              "      <td>be8220fcea6547c4b537882eed3e31ee</td>\n",
              "      <td>926124755463801135</td>\n",
              "      <td>FINISHED</td>\n",
              "      <td>file:///mnt/0A2AAC152AABFBB7/sideProjects/deep...</td>\n",
              "      <td>2024-04-29 09:46:56.301000+00:00</td>\n",
              "      <td>2024-04-29 09:46:56.329000+00:00</td>\n",
              "      <td>0.88060</td>\n",
              "      <td>0.294502</td>\n",
              "      <td>512</td>\n",
              "      <td>4</td>\n",
              "      <td>16</td>\n",
              "      <td>relu</td>\n",
              "      <td>16</td>\n",
              "      <td>/mnt/0A2AAC152AABFBB7/sideProjects/deepLearnin...</td>\n",
              "      <td>colorful-skink-172</td>\n",
              "      <td>luisggon</td>\n",
              "      <td>Base_relu_0</td>\n",
              "      <td>LOCAL</td>\n",
              "    </tr>\n",
              "  </tbody>\n",
              "</table>\n",
              "</div>"
            ],
            "text/plain": [
              "                             run_id       experiment_id    status  \\\n",
              "0  b3288fe1ad6e4c269fdda3ec7897bdae  926124755463801135  FINISHED   \n",
              "1  913cf68f86e443adae0b87269c2d7897  926124755463801135  FINISHED   \n",
              "2  d1c1615ba1a44a92a80dd6e88b0b1af4  926124755463801135  FINISHED   \n",
              "3  2143f77529164b8ca07fca057f2f5a08  926124755463801135  FINISHED   \n",
              "4  fd6c45e187074f2680867d44a7fd7738  926124755463801135  FINISHED   \n",
              "5  86caf32d83274909b20505b6d3e74afe  926124755463801135  FINISHED   \n",
              "6  e1eee968bf3d4c169386b71c68da99c2  926124755463801135  FINISHED   \n",
              "7  acccca3ed4d24086bf23482cb15cc9d8  926124755463801135  FINISHED   \n",
              "8  be8220fcea6547c4b537882eed3e31ee  926124755463801135  FINISHED   \n",
              "\n",
              "                                        artifact_uri  \\\n",
              "0  file:///mnt/0A2AAC152AABFBB7/sideProjects/deep...   \n",
              "1  file:///mnt/0A2AAC152AABFBB7/sideProjects/deep...   \n",
              "2  file:///mnt/0A2AAC152AABFBB7/sideProjects/deep...   \n",
              "3  file:///mnt/0A2AAC152AABFBB7/sideProjects/deep...   \n",
              "4  file:///mnt/0A2AAC152AABFBB7/sideProjects/deep...   \n",
              "5  file:///mnt/0A2AAC152AABFBB7/sideProjects/deep...   \n",
              "6  file:///mnt/0A2AAC152AABFBB7/sideProjects/deep...   \n",
              "7  file:///mnt/0A2AAC152AABFBB7/sideProjects/deep...   \n",
              "8  file:///mnt/0A2AAC152AABFBB7/sideProjects/deep...   \n",
              "\n",
              "                        start_time                         end_time  \\\n",
              "0 2024-04-29 10:47:21.145000+00:00 2024-04-29 10:47:21.169000+00:00   \n",
              "1 2024-04-29 10:47:15.278000+00:00 2024-04-29 10:47:15.303000+00:00   \n",
              "2 2024-04-29 10:47:09.139000+00:00 2024-04-29 10:47:09.164000+00:00   \n",
              "3 2024-04-29 10:29:48.952000+00:00 2024-04-29 10:29:49.003000+00:00   \n",
              "4 2024-04-29 10:29:40.953000+00:00 2024-04-29 10:29:40.979000+00:00   \n",
              "5 2024-04-29 10:29:34.243000+00:00 2024-04-29 10:29:34.275000+00:00   \n",
              "6 2024-04-29 09:47:10.132000+00:00 2024-04-29 09:47:10.159000+00:00   \n",
              "7 2024-04-29 09:47:02.683000+00:00 2024-04-29 09:47:02.711000+00:00   \n",
              "8 2024-04-29 09:46:56.301000+00:00 2024-04-29 09:46:56.329000+00:00   \n",
              "\n",
              "   metrics.accuracy  metrics.loss params.batch_size params.epochs  \\\n",
              "0           0.88404      0.288918               512             4   \n",
              "1           0.88084      0.297910               512             4   \n",
              "2           0.88280      0.304674               512             4   \n",
              "3           0.87084      0.338135               512             4   \n",
              "4           0.87840      0.309813               512             4   \n",
              "5           0.88152      0.287834               512             4   \n",
              "6           0.84884      0.385586               512             4   \n",
              "7           0.87392      0.313741               512             4   \n",
              "8           0.88060      0.294502               512             4   \n",
              "\n",
              "  params.units_1st_layer params.hidden_activation params.units_2nd_layer  \\\n",
              "0                     32                     relu                   None   \n",
              "1                     16                     relu                   None   \n",
              "2                      8                     relu                   None   \n",
              "3                     64                     tanh                     64   \n",
              "4                     32                     tanh                     32   \n",
              "5                     16                     tanh                     16   \n",
              "6                     64                     relu                     64   \n",
              "7                     32                     relu                     32   \n",
              "8                     16                     relu                     16   \n",
              "\n",
              "                             tags.mlflow.source.name   tags.mlflow.runName  \\\n",
              "0  /mnt/0A2AAC152AABFBB7/sideProjects/deepLearnin...  inquisitive-loon-101   \n",
              "1  /mnt/0A2AAC152AABFBB7/sideProjects/deepLearnin...      spiffy-shrimp-14   \n",
              "2  /mnt/0A2AAC152AABFBB7/sideProjects/deepLearnin...       unruly-gull-578   \n",
              "3  /mnt/0A2AAC152AABFBB7/sideProjects/deepLearnin...     likeable-deer-618   \n",
              "4  /mnt/0A2AAC152AABFBB7/sideProjects/deepLearnin...        sassy-colt-222   \n",
              "5  /mnt/0A2AAC152AABFBB7/sideProjects/deepLearnin...   shivering-mouse-746   \n",
              "6  /mnt/0A2AAC152AABFBB7/sideProjects/deepLearnin...        upset-snake-27   \n",
              "7  /mnt/0A2AAC152AABFBB7/sideProjects/deepLearnin...   receptive-midge-765   \n",
              "8  /mnt/0A2AAC152AABFBB7/sideProjects/deepLearnin...    colorful-skink-172   \n",
              "\n",
              "  tags.mlflow.user   tags.model tags.mlflow.source.type  \n",
              "0         luisggon  Base_tanh_2                   LOCAL  \n",
              "1         luisggon  Base_tanh_1                   LOCAL  \n",
              "2         luisggon  Base_tanh_0                   LOCAL  \n",
              "3         luisggon  Base_tanh_2                   LOCAL  \n",
              "4         luisggon  Base_tanh_1                   LOCAL  \n",
              "5         luisggon  Base_tanh_0                   LOCAL  \n",
              "6         luisggon  Base_relu_2                   LOCAL  \n",
              "7         luisggon  Base_relu_1                   LOCAL  \n",
              "8         luisggon  Base_relu_0                   LOCAL  "
            ]
          },
          "execution_count": 11,
          "metadata": {},
          "output_type": "execute_result"
        }
      ],
      "source": [
        "runs"
      ]
    }
  ],
  "metadata": {
    "colab": {
      "provenance": []
    },
    "kernelspec": {
      "display_name": "Python 3",
      "name": "python3"
    },
    "language_info": {
      "codemirror_mode": {
        "name": "ipython",
        "version": 3
      },
      "file_extension": ".py",
      "mimetype": "text/x-python",
      "name": "python",
      "nbconvert_exporter": "python",
      "pygments_lexer": "ipython3",
      "version": "3.12.2"
    }
  },
  "nbformat": 4,
  "nbformat_minor": 0
}
