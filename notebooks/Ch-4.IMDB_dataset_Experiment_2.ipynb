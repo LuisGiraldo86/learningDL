{
  "cells": [
    {
      "cell_type": "code",
      "execution_count": 1,
      "metadata": {
        "id": "gIEbU2t3X-72"
      },
      "outputs": [
        {
          "name": "stderr",
          "output_type": "stream",
          "text": [
            "2024-04-29 12:29:08.973054: I external/local_tsl/tsl/cuda/cudart_stub.cc:32] Could not find cuda drivers on your machine, GPU will not be used.\n",
            "2024-04-29 12:29:08.976583: I external/local_tsl/tsl/cuda/cudart_stub.cc:32] Could not find cuda drivers on your machine, GPU will not be used.\n",
            "2024-04-29 12:29:09.023356: I tensorflow/core/platform/cpu_feature_guard.cc:210] This TensorFlow binary is optimized to use available CPU instructions in performance-critical operations.\n",
            "To enable the following instructions: AVX2 FMA, in other operations, rebuild TensorFlow with the appropriate compiler flags.\n",
            "2024-04-29 12:29:10.164114: W tensorflow/compiler/tf2tensorrt/utils/py_utils.cc:38] TF-TRT Warning: Could not find TensorRT\n"
          ]
        }
      ],
      "source": [
        "# imports\n",
        "import os\n",
        "\n",
        "import pandas as pd\n",
        "import tensorflow as tf\n",
        "import numpy as np\n",
        "import mlflow\n",
        "\n",
        "from mlflow.tracking import MlflowClient\n",
        "from tensorflow import keras\n",
        "from keras import layers"
      ]
    },
    {
      "cell_type": "markdown",
      "metadata": {},
      "source": [
        "Here we add the path to the local module so we can import our own funtion to the notebook."
      ]
    },
    {
      "cell_type": "code",
      "execution_count": 2,
      "metadata": {
        "colab": {
          "base_uri": "https://localhost:8080/"
        },
        "id": "c_NswI1qYCId",
        "outputId": "3269520c-e802-43c7-905f-3ea0d0c1b9d3"
      },
      "outputs": [],
      "source": [
        "# import local modules\n",
        "import sys\n",
        "sys.path.append('/mnt/0A2AAC152AABFBB7/sideProjects/deepLearning')\n",
        "from deeplearning.deep_utils import imdb_model_setup"
      ]
    },
    {
      "cell_type": "markdown",
      "metadata": {},
      "source": [
        "Now we load the `.csv` file with the runs from the previous exploration."
      ]
    },
    {
      "cell_type": "code",
      "execution_count": 3,
      "metadata": {},
      "outputs": [],
      "source": [
        "PATH_TO_RUNS = \"/mnt/0A2AAC152AABFBB7/sideProjects/deepLearning/mlflow_runs\"\n",
        "old_runs = pd.read_csv(os.path.join(PATH_TO_RUNS, 'imdb_runs_1.csv'))"
      ]
    },
    {
      "cell_type": "code",
      "execution_count": 4,
      "metadata": {
        "colab": {
          "base_uri": "https://localhost:8080/"
        },
        "id": "irCGUjqbYRwl",
        "outputId": "9d6c0737-1941-4e5a-83c9-9e0f49d156e1"
      },
      "outputs": [],
      "source": [
        "# Loading the IMDB dataset\n",
        "\n",
        "(train_data, train_labels), (test_data, test_labels) = tf.keras.datasets.imdb.load_data(num_words=10000)"
      ]
    },
    {
      "cell_type": "code",
      "execution_count": 5,
      "metadata": {
        "id": "9gjfdDmuYStN"
      },
      "outputs": [],
      "source": [
        "# Encoding the integer sequences via multi-hot encoding\n",
        "\n",
        "def vectorize_sequences(sequences, dimension=10000):\n",
        "\n",
        "    results = np.zeros((len(sequences), dimension))\n",
        "    for i, sequence in enumerate(sequences):\n",
        "        for j in sequence:\n",
        "            results[i, j] = 1.\n",
        "    return results\n",
        "\n",
        "x_train = vectorize_sequences(train_data)\n",
        "x_test = vectorize_sequences(test_data)\n",
        "\n",
        "y_train = np.asarray(train_labels).astype(\"float32\")\n",
        "y_test = np.asarray(test_labels).astype(\"float32\")"
      ]
    },
    {
      "cell_type": "code",
      "execution_count": 6,
      "metadata": {
        "id": "omocrewkYWkt"
      },
      "outputs": [],
      "source": [
        "# Setting aside a validation set\n",
        "\n",
        "x_val = x_train[:10000]\n",
        "partial_x_train = x_train[10000:]\n",
        "\n",
        "y_val = y_train[:10000]\n",
        "partial_y_train = y_train[10000:]"
      ]
    },
    {
      "cell_type": "code",
      "execution_count": 7,
      "metadata": {
        "colab": {
          "base_uri": "https://localhost:8080/"
        },
        "id": "YGoKDqD0YZYe",
        "outputId": "fb0234fd-2852-4d1c-8583-db6acb4c87ae"
      },
      "outputs": [],
      "source": [
        "# Initialize client and experiment\n",
        "\n",
        "EXPERIMENT_NAME = \"deepLearning_IMDB_dataset\"\n",
        "client = MlflowClient()\n",
        "mlflow.set_experiment(EXPERIMENT_NAME)\n",
        "exp = client.get_experiment_by_name(EXPERIMENT_NAME)"
      ]
    },
    {
      "cell_type": "code",
      "execution_count": 8,
      "metadata": {
        "id": "bcVIerCYYgG9"
      },
      "outputs": [],
      "source": [
        "units_2_hidden = [(16, 16), (32, 32), (64,64)]"
      ]
    },
    {
      "cell_type": "code",
      "execution_count": 9,
      "metadata": {
        "colab": {
          "base_uri": "https://localhost:8080/"
        },
        "id": "ji5tcO68Yg3W",
        "outputId": "323624f8-e609-47a2-eccb-3f0159acc709"
      },
      "outputs": [
        {
          "name": "stdout",
          "output_type": "stream",
          "text": [
            "Epoch 1/4\n"
          ]
        },
        {
          "name": "stderr",
          "output_type": "stream",
          "text": [
            "2024-04-29 12:29:23.057364: W external/local_tsl/tsl/framework/cpu_allocator_impl.cc:83] Allocation of 600000000 exceeds 10% of free system memory.\n"
          ]
        },
        {
          "name": "stdout",
          "output_type": "stream",
          "text": [
            "\u001b[1m26/30\u001b[0m \u001b[32m━━━━━━━━━━━━━━━━━\u001b[0m\u001b[37m━━━\u001b[0m \u001b[1m0s\u001b[0m 9ms/step - accuracy: 0.6942 - loss: 0.5950 "
          ]
        },
        {
          "name": "stderr",
          "output_type": "stream",
          "text": [
            "2024-04-29 12:29:26.310573: W external/local_tsl/tsl/framework/cpu_allocator_impl.cc:83] Allocation of 400000000 exceeds 10% of free system memory.\n"
          ]
        },
        {
          "name": "stdout",
          "output_type": "stream",
          "text": [
            "\u001b[1m30/30\u001b[0m \u001b[32m━━━━━━━━━━━━━━━━━━━━\u001b[0m\u001b[37m\u001b[0m \u001b[1m3s\u001b[0m 68ms/step - accuracy: 0.7094 - loss: 0.5816 - val_accuracy: 0.8433 - val_loss: 0.4096\n",
            "Epoch 2/4\n",
            "\u001b[1m30/30\u001b[0m \u001b[32m━━━━━━━━━━━━━━━━━━━━\u001b[0m\u001b[37m\u001b[0m \u001b[1m0s\u001b[0m 13ms/step - accuracy: 0.8937 - loss: 0.3331 - val_accuracy: 0.8798 - val_loss: 0.3148\n",
            "Epoch 3/4\n",
            "\u001b[1m30/30\u001b[0m \u001b[32m━━━━━━━━━━━━━━━━━━━━\u001b[0m\u001b[37m\u001b[0m \u001b[1m0s\u001b[0m 15ms/step - accuracy: 0.9191 - loss: 0.2409 - val_accuracy: 0.8892 - val_loss: 0.2765\n",
            "Epoch 4/4\n",
            "\u001b[1m30/30\u001b[0m \u001b[32m━━━━━━━━━━━━━━━━━━━━\u001b[0m\u001b[37m\u001b[0m \u001b[1m0s\u001b[0m 13ms/step - accuracy: 0.9401 - loss: 0.1817 - val_accuracy: 0.8891 - val_loss: 0.2718\n",
            "\u001b[1m 92/782\u001b[0m \u001b[32m━━\u001b[0m\u001b[37m━━━━━━━━━━━━━━━━━━\u001b[0m \u001b[1m0s\u001b[0m 1ms/step - accuracy: 0.8859 - loss: 0.2738"
          ]
        },
        {
          "name": "stderr",
          "output_type": "stream",
          "text": [
            "2024-04-29 12:29:31.344773: W external/local_tsl/tsl/framework/cpu_allocator_impl.cc:83] Allocation of 1000000000 exceeds 10% of free system memory.\n"
          ]
        },
        {
          "name": "stdout",
          "output_type": "stream",
          "text": [
            "\u001b[1m782/782\u001b[0m \u001b[32m━━━━━━━━━━━━━━━━━━━━\u001b[0m\u001b[37m\u001b[0m \u001b[1m1s\u001b[0m 1ms/step - accuracy: 0.8793 - loss: 0.2899\n",
            "Epoch 1/4\n"
          ]
        },
        {
          "name": "stderr",
          "output_type": "stream",
          "text": [
            "2024-04-29 12:29:34.579988: W external/local_tsl/tsl/framework/cpu_allocator_impl.cc:83] Allocation of 600000000 exceeds 10% of free system memory.\n"
          ]
        },
        {
          "name": "stdout",
          "output_type": "stream",
          "text": [
            "\u001b[1m30/30\u001b[0m \u001b[32m━━━━━━━━━━━━━━━━━━━━\u001b[0m\u001b[37m\u001b[0m \u001b[1m0s\u001b[0m 9ms/step - accuracy: 0.6882 - loss: 0.5834"
          ]
        },
        {
          "name": "stderr",
          "output_type": "stream",
          "text": [
            "2024-04-29 12:29:36.190044: W external/local_tsl/tsl/framework/cpu_allocator_impl.cc:83] Allocation of 400000000 exceeds 10% of free system memory.\n"
          ]
        },
        {
          "name": "stdout",
          "output_type": "stream",
          "text": [
            "\u001b[1m30/30\u001b[0m \u001b[32m━━━━━━━━━━━━━━━━━━━━\u001b[0m\u001b[37m\u001b[0m \u001b[1m2s\u001b[0m 33ms/step - accuracy: 0.6913 - loss: 0.5803 - val_accuracy: 0.8110 - val_loss: 0.4165\n",
            "Epoch 2/4\n",
            "\u001b[1m30/30\u001b[0m \u001b[32m━━━━━━━━━━━━━━━━━━━━\u001b[0m\u001b[37m\u001b[0m \u001b[1m0s\u001b[0m 15ms/step - accuracy: 0.8929 - loss: 0.2916 - val_accuracy: 0.8850 - val_loss: 0.2820\n",
            "Epoch 3/4\n",
            "\u001b[1m30/30\u001b[0m \u001b[32m━━━━━━━━━━━━━━━━━━━━\u001b[0m\u001b[37m\u001b[0m \u001b[1m1s\u001b[0m 16ms/step - accuracy: 0.9198 - loss: 0.2082 - val_accuracy: 0.8880 - val_loss: 0.2729\n",
            "Epoch 4/4\n",
            "\u001b[1m30/30\u001b[0m \u001b[32m━━━━━━━━━━━━━━━━━━━━\u001b[0m\u001b[37m\u001b[0m \u001b[1m1s\u001b[0m 16ms/step - accuracy: 0.9484 - loss: 0.1469 - val_accuracy: 0.8859 - val_loss: 0.2887\n",
            "\u001b[1m782/782\u001b[0m \u001b[32m━━━━━━━━━━━━━━━━━━━━\u001b[0m\u001b[37m\u001b[0m \u001b[1m1s\u001b[0m 1ms/step - accuracy: 0.8741 - loss: 0.3132\n",
            "Epoch 1/4\n",
            "\u001b[1m30/30\u001b[0m \u001b[32m━━━━━━━━━━━━━━━━━━━━\u001b[0m\u001b[37m\u001b[0m \u001b[1m2s\u001b[0m 45ms/step - accuracy: 0.6929 - loss: 0.5700 - val_accuracy: 0.8393 - val_loss: 0.3702\n",
            "Epoch 2/4\n",
            "\u001b[1m30/30\u001b[0m \u001b[32m━━━━━━━━━━━━━━━━━━━━\u001b[0m\u001b[37m\u001b[0m \u001b[1m1s\u001b[0m 21ms/step - accuracy: 0.8935 - loss: 0.2725 - val_accuracy: 0.8555 - val_loss: 0.3530\n",
            "Epoch 3/4\n",
            "\u001b[1m30/30\u001b[0m \u001b[32m━━━━━━━━━━━━━━━━━━━━\u001b[0m\u001b[37m\u001b[0m \u001b[1m1s\u001b[0m 23ms/step - accuracy: 0.9005 - loss: 0.2393 - val_accuracy: 0.8750 - val_loss: 0.3127\n",
            "Epoch 4/4\n",
            "\u001b[1m30/30\u001b[0m \u001b[32m━━━━━━━━━━━━━━━━━━━━\u001b[0m\u001b[37m\u001b[0m \u001b[1m1s\u001b[0m 21ms/step - accuracy: 0.9446 - loss: 0.1526 - val_accuracy: 0.8817 - val_loss: 0.3152\n",
            "\u001b[1m782/782\u001b[0m \u001b[32m━━━━━━━━━━━━━━━━━━━━\u001b[0m\u001b[37m\u001b[0m \u001b[1m1s\u001b[0m 1ms/step - accuracy: 0.8677 - loss: 0.3421\n"
          ]
        }
      ],
      "source": [
        "count = 0\n",
        "for units in units_2_hidden:\n",
        "\n",
        "    model, history = imdb_model_setup(\n",
        "        units_layer1=units[0],\n",
        "        units_layer2=units[1],\n",
        "        activ_func=\"tanh\",\n",
        "        X_train=partial_x_train,\n",
        "        y_train=partial_y_train,\n",
        "        X_val=x_val,\n",
        "        y_val=y_val\n",
        "    )\n",
        "    hist_dict = history.history\n",
        "    test_loss, test_accuracy = model.evaluate(x_test, y_test)\n",
        "\n",
        "\n",
        "    with mlflow.start_run():\n",
        "        mlflow.set_tag(\"model\", \"Base_tanh_{}\".format(count))\n",
        "        mlflow.log_param(\"units_1st_layer\", units[0])\n",
        "        mlflow.log_param(\"units_2nd_layer\", units[1])\n",
        "        mlflow.log_param(\"hidden_activation\", 'tanh')\n",
        "        mlflow.log_param(\"epochs\", 4)\n",
        "        mlflow.log_param(\"batch_size\", 512)\n",
        "        mlflow.log_metric(\"accuracy\", test_accuracy)\n",
        "        mlflow.log_metric(\"loss\", test_loss)\n",
        "    count+=1\n",
        "\n",
        "    del hist_dict\n",
        "    del history\n",
        "    del model"
      ]
    },
    {
      "cell_type": "code",
      "execution_count": 14,
      "metadata": {
        "colab": {
          "base_uri": "https://localhost:8080/",
          "height": 216
        },
        "id": "_IbxyOPIYwTn",
        "outputId": "b994714c-9849-4863-be3d-bf5d85d0564b"
      },
      "outputs": [
        {
          "data": {
            "text/html": [
              "<div>\n",
              "<style scoped>\n",
              "    .dataframe tbody tr th:only-of-type {\n",
              "        vertical-align: middle;\n",
              "    }\n",
              "\n",
              "    .dataframe tbody tr th {\n",
              "        vertical-align: top;\n",
              "    }\n",
              "\n",
              "    .dataframe thead th {\n",
              "        text-align: right;\n",
              "    }\n",
              "</style>\n",
              "<table border=\"1\" class=\"dataframe\">\n",
              "  <thead>\n",
              "    <tr style=\"text-align: right;\">\n",
              "      <th></th>\n",
              "      <th>experiment_id</th>\n",
              "      <th>status</th>\n",
              "      <th>metrics.loss</th>\n",
              "      <th>metrics.accuracy</th>\n",
              "      <th>params.units_1st_layer</th>\n",
              "      <th>params.units_2nd_layer</th>\n",
              "      <th>params.hidden_activation</th>\n",
              "    </tr>\n",
              "  </thead>\n",
              "  <tbody>\n",
              "    <tr>\n",
              "      <th>0</th>\n",
              "      <td>926124755463801135</td>\n",
              "      <td>FINISHED</td>\n",
              "      <td>0.338135</td>\n",
              "      <td>0.87084</td>\n",
              "      <td>64</td>\n",
              "      <td>64</td>\n",
              "      <td>tanh</td>\n",
              "    </tr>\n",
              "    <tr>\n",
              "      <th>1</th>\n",
              "      <td>926124755463801135</td>\n",
              "      <td>FINISHED</td>\n",
              "      <td>0.309813</td>\n",
              "      <td>0.87840</td>\n",
              "      <td>32</td>\n",
              "      <td>32</td>\n",
              "      <td>tanh</td>\n",
              "    </tr>\n",
              "    <tr>\n",
              "      <th>2</th>\n",
              "      <td>926124755463801135</td>\n",
              "      <td>FINISHED</td>\n",
              "      <td>0.287834</td>\n",
              "      <td>0.88152</td>\n",
              "      <td>16</td>\n",
              "      <td>16</td>\n",
              "      <td>tanh</td>\n",
              "    </tr>\n",
              "    <tr>\n",
              "      <th>3</th>\n",
              "      <td>926124755463801135</td>\n",
              "      <td>FINISHED</td>\n",
              "      <td>0.385586</td>\n",
              "      <td>0.84884</td>\n",
              "      <td>64</td>\n",
              "      <td>64</td>\n",
              "      <td>relu</td>\n",
              "    </tr>\n",
              "    <tr>\n",
              "      <th>4</th>\n",
              "      <td>926124755463801135</td>\n",
              "      <td>FINISHED</td>\n",
              "      <td>0.313741</td>\n",
              "      <td>0.87392</td>\n",
              "      <td>32</td>\n",
              "      <td>32</td>\n",
              "      <td>relu</td>\n",
              "    </tr>\n",
              "    <tr>\n",
              "      <th>5</th>\n",
              "      <td>926124755463801135</td>\n",
              "      <td>FINISHED</td>\n",
              "      <td>0.294502</td>\n",
              "      <td>0.88060</td>\n",
              "      <td>16</td>\n",
              "      <td>16</td>\n",
              "      <td>relu</td>\n",
              "    </tr>\n",
              "  </tbody>\n",
              "</table>\n",
              "</div>"
            ],
            "text/plain": [
              "        experiment_id    status  metrics.loss  metrics.accuracy  \\\n",
              "0  926124755463801135  FINISHED      0.338135           0.87084   \n",
              "1  926124755463801135  FINISHED      0.309813           0.87840   \n",
              "2  926124755463801135  FINISHED      0.287834           0.88152   \n",
              "3  926124755463801135  FINISHED      0.385586           0.84884   \n",
              "4  926124755463801135  FINISHED      0.313741           0.87392   \n",
              "5  926124755463801135  FINISHED      0.294502           0.88060   \n",
              "\n",
              "  params.units_1st_layer params.units_2nd_layer params.hidden_activation  \n",
              "0                     64                     64                     tanh  \n",
              "1                     32                     32                     tanh  \n",
              "2                     16                     16                     tanh  \n",
              "3                     64                     64                     relu  \n",
              "4                     32                     32                     relu  \n",
              "5                     16                     16                     relu  "
            ]
          },
          "execution_count": 14,
          "metadata": {},
          "output_type": "execute_result"
        }
      ],
      "source": [
        "new_runs =mlflow.search_runs()\n",
        "new_runs[['experiment_id', 'status', 'metrics.loss', 'metrics.accuracy', 'params.units_1st_layer', 'params.units_2nd_layer', \"params.hidden_activation\"]]"
      ]
    },
    {
      "cell_type": "code",
      "execution_count": 15,
      "metadata": {
        "colab": {
          "base_uri": "https://localhost:8080/",
          "height": 362
        },
        "id": "L-wIWUUGYxTP",
        "outputId": "1d008f19-e411-414c-d807-d1582d2a851d"
      },
      "outputs": [
        {
          "data": {
            "text/html": [
              "<div>\n",
              "<style scoped>\n",
              "    .dataframe tbody tr th:only-of-type {\n",
              "        vertical-align: middle;\n",
              "    }\n",
              "\n",
              "    .dataframe tbody tr th {\n",
              "        vertical-align: top;\n",
              "    }\n",
              "\n",
              "    .dataframe thead th {\n",
              "        text-align: right;\n",
              "    }\n",
              "</style>\n",
              "<table border=\"1\" class=\"dataframe\">\n",
              "  <thead>\n",
              "    <tr style=\"text-align: right;\">\n",
              "      <th></th>\n",
              "      <th>experiment_id</th>\n",
              "      <th>status</th>\n",
              "      <th>metrics.loss</th>\n",
              "      <th>metrics.accuracy</th>\n",
              "      <th>params.units_1st_layer</th>\n",
              "      <th>params.units_2nd_layer</th>\n",
              "      <th>params.hidden_activation</th>\n",
              "    </tr>\n",
              "  </thead>\n",
              "  <tbody>\n",
              "    <tr>\n",
              "      <th>0</th>\n",
              "      <td>926124755463801135</td>\n",
              "      <td>FINISHED</td>\n",
              "      <td>0.385586</td>\n",
              "      <td>0.84884</td>\n",
              "      <td>64</td>\n",
              "      <td>64</td>\n",
              "      <td>relu</td>\n",
              "    </tr>\n",
              "    <tr>\n",
              "      <th>1</th>\n",
              "      <td>926124755463801135</td>\n",
              "      <td>FINISHED</td>\n",
              "      <td>0.313741</td>\n",
              "      <td>0.87392</td>\n",
              "      <td>32</td>\n",
              "      <td>32</td>\n",
              "      <td>relu</td>\n",
              "    </tr>\n",
              "    <tr>\n",
              "      <th>2</th>\n",
              "      <td>926124755463801135</td>\n",
              "      <td>FINISHED</td>\n",
              "      <td>0.294502</td>\n",
              "      <td>0.88060</td>\n",
              "      <td>16</td>\n",
              "      <td>16</td>\n",
              "      <td>relu</td>\n",
              "    </tr>\n",
              "    <tr>\n",
              "      <th>0</th>\n",
              "      <td>926124755463801135</td>\n",
              "      <td>FINISHED</td>\n",
              "      <td>0.338135</td>\n",
              "      <td>0.87084</td>\n",
              "      <td>64</td>\n",
              "      <td>64</td>\n",
              "      <td>tanh</td>\n",
              "    </tr>\n",
              "    <tr>\n",
              "      <th>1</th>\n",
              "      <td>926124755463801135</td>\n",
              "      <td>FINISHED</td>\n",
              "      <td>0.309813</td>\n",
              "      <td>0.87840</td>\n",
              "      <td>32</td>\n",
              "      <td>32</td>\n",
              "      <td>tanh</td>\n",
              "    </tr>\n",
              "    <tr>\n",
              "      <th>2</th>\n",
              "      <td>926124755463801135</td>\n",
              "      <td>FINISHED</td>\n",
              "      <td>0.287834</td>\n",
              "      <td>0.88152</td>\n",
              "      <td>16</td>\n",
              "      <td>16</td>\n",
              "      <td>tanh</td>\n",
              "    </tr>\n",
              "    <tr>\n",
              "      <th>3</th>\n",
              "      <td>926124755463801135</td>\n",
              "      <td>FINISHED</td>\n",
              "      <td>0.385586</td>\n",
              "      <td>0.84884</td>\n",
              "      <td>64</td>\n",
              "      <td>64</td>\n",
              "      <td>relu</td>\n",
              "    </tr>\n",
              "    <tr>\n",
              "      <th>4</th>\n",
              "      <td>926124755463801135</td>\n",
              "      <td>FINISHED</td>\n",
              "      <td>0.313741</td>\n",
              "      <td>0.87392</td>\n",
              "      <td>32</td>\n",
              "      <td>32</td>\n",
              "      <td>relu</td>\n",
              "    </tr>\n",
              "    <tr>\n",
              "      <th>5</th>\n",
              "      <td>926124755463801135</td>\n",
              "      <td>FINISHED</td>\n",
              "      <td>0.294502</td>\n",
              "      <td>0.88060</td>\n",
              "      <td>16</td>\n",
              "      <td>16</td>\n",
              "      <td>relu</td>\n",
              "    </tr>\n",
              "  </tbody>\n",
              "</table>\n",
              "</div>"
            ],
            "text/plain": [
              "        experiment_id    status  metrics.loss  metrics.accuracy  \\\n",
              "0  926124755463801135  FINISHED      0.385586           0.84884   \n",
              "1  926124755463801135  FINISHED      0.313741           0.87392   \n",
              "2  926124755463801135  FINISHED      0.294502           0.88060   \n",
              "0  926124755463801135  FINISHED      0.338135           0.87084   \n",
              "1  926124755463801135  FINISHED      0.309813           0.87840   \n",
              "2  926124755463801135  FINISHED      0.287834           0.88152   \n",
              "3  926124755463801135  FINISHED      0.385586           0.84884   \n",
              "4  926124755463801135  FINISHED      0.313741           0.87392   \n",
              "5  926124755463801135  FINISHED      0.294502           0.88060   \n",
              "\n",
              "  params.units_1st_layer params.units_2nd_layer params.hidden_activation  \n",
              "0                     64                     64                     relu  \n",
              "1                     32                     32                     relu  \n",
              "2                     16                     16                     relu  \n",
              "0                     64                     64                     tanh  \n",
              "1                     32                     32                     tanh  \n",
              "2                     16                     16                     tanh  \n",
              "3                     64                     64                     relu  \n",
              "4                     32                     32                     relu  \n",
              "5                     16                     16                     relu  "
            ]
          },
          "execution_count": 15,
          "metadata": {},
          "output_type": "execute_result"
        }
      ],
      "source": [
        "runs = pd.concat([old_runs, new_runs], axis=0)\n",
        "runs[['experiment_id', 'status', 'metrics.loss', 'metrics.accuracy', 'params.units_1st_layer', 'params.units_2nd_layer', \"params.hidden_activation\"]]"
      ]
    },
    {
      "cell_type": "code",
      "execution_count": 12,
      "metadata": {
        "id": "IrxnHjHjcRdT"
      },
      "outputs": [],
      "source": [
        "runs.to_csv(\n",
        "    os.path.join(PATH_TO_RUNS, 'imdb_runs_1.csv')\n",
        ")"
      ]
    }
  ],
  "metadata": {
    "colab": {
      "provenance": []
    },
    "kernelspec": {
      "display_name": "Python 3",
      "name": "python3"
    },
    "language_info": {
      "codemirror_mode": {
        "name": "ipython",
        "version": 3
      },
      "file_extension": ".py",
      "mimetype": "text/x-python",
      "name": "python",
      "nbconvert_exporter": "python",
      "pygments_lexer": "ipython3",
      "version": "3.12.2"
    }
  },
  "nbformat": 4,
  "nbformat_minor": 0
}
